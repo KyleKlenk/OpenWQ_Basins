{
 "cells": [
  {
   "attachments": {},
   "cell_type": "markdown",
   "metadata": {},
   "source": [
    "Python Code for configuring the shapefile to be run in SUMMA and Mizuroutie\n",
    "\n",
    "There are 3 files that are needed:\n",
    "- Catchment File\n",
    "  - Required Fields Include: GRU_ID, HRU_ID, center_lat, center_lon, HRU_area (m^2)\n",
    "- River Network File\n",
    "  - Required Fields Include: COMID, NextDownID, slope, length\n",
    "- Routing Basin File\n",
    "  - Required Fields Include: COMID, area, hru_to_seg"
   ]
  },
  {
   "attachments": {},
   "cell_type": "markdown",
   "metadata": {},
   "source": [
    "First we want to verify that the COMID's match in the files we generated from camels_spat match"
   ]
  },
  {
   "cell_type": "code",
   "execution_count": 1,
   "metadata": {},
   "outputs": [],
   "source": [
    "import geopandas as gpd"
   ]
  },
  {
   "cell_type": "code",
   "execution_count": 2,
   "metadata": {},
   "outputs": [
    {
     "name": "stdout",
     "output_type": "stream",
     "text": [
      "3515\n",
      "3551\n",
      "Error: basin and river shapefiles do not have the same number of COMIDs.\n"
     ]
    }
   ],
   "source": [
    "# We generated two files in the camels_spat workflow: basin and river shapefiles.\n",
    "\n",
    "basin_file = \"/Users/kyleklenk/ProgrammingProjects/OpenWQ-Projects/CAMELS_spat_data/OpenWQ_Basins/Great_Slave_Lake_Massive/shapefiles/distributed/CAN_06JB001_distributed_basin.shp\"\n",
    "river_file = \"/Users/kyleklenk/ProgrammingProjects/OpenWQ-Projects/CAMELS_spat_data/OpenWQ_Basins/Great_Slave_Lake_Massive/shapefiles/distributed/CAN_06JB001_distributed_river.shp\"\n",
    "\n",
    "basin = gpd.read_file(basin_file)\n",
    "river = gpd.read_file(river_file)\n",
    "\n",
    "# Find there exists the same COMID in both files\n",
    "basin_comids = basin[\"COMID\"].tolist()\n",
    "river_comids = river[\"COMID\"].tolist()\n",
    "\n",
    "# Check if they are the same length\n",
    "print(len(basin_comids))\n",
    "print(len(river_comids))\n",
    "if len(basin_comids) != len(river_comids):\n",
    "    print(\"Error: basin and river shapefiles do not have the same number of COMIDs.\")\n",
    "\n",
    "for comid in basin_comids:\n",
    "    if comid not in river_comids:\n",
    "        print(\"Error: COMID {} in basin shapefile but not in river shapefile.\".format(comid))\n",
    "\n",
    "# if you see any ERROR Output above, then you need to fix the shapefiles."
   ]
  },
  {
   "attachments": {},
   "cell_type": "markdown",
   "metadata": {},
   "source": [
    "#### Format the catchment file"
   ]
  },
  {
   "cell_type": "code",
   "execution_count": 3,
   "metadata": {},
   "outputs": [],
   "source": [
    "# Set GRU_ID to the COMID\n",
    "basin.rename(columns={\"COMID\" : \"GRU_ID\"}, inplace=True)\n",
    "\n",
    "# Assign an HRU_ID to each row\n",
    "basin.insert(loc=1, column=\"HRU_ID\", value=range(1, len(basin) + 1))\n",
    "\n",
    "# Convert units of area from square kilometers to square meters\n",
    "basin.rename(columns={\"unitarea\" : \"HRU_area\"}, inplace=True)\n",
    "basin[\"HRU_area\"] = basin[\"HRU_area\"] * 1000\n",
    "\n",
    "basin.insert(loc=2, column=\"center_lat\", value= -99)\n",
    "basin.insert(loc=3, column=\"center_lon\", value= -99)\n",
    "\n",
    "# get center lat/lon for each basin\n",
    "for index, row in basin.iterrows():\n",
    "    center_point = row.geometry.centroid\n",
    "    basin.at[index, \"center_lat\"] = center_point.y\n",
    "    basin.at[index, \"center_lon\"] = center_point.x\n",
    "\n",
    "# Save the file to a new shapefile\n",
    "basin.to_file(\"/Users/kyleklenk/ProgrammingProjects/OpenWQ-Projects/CAMELS_spat_data/OpenWQ_Basins/Athabasca_River/required/catchment/athabasca_river_distributed_basin.shp\")"
   ]
  },
  {
   "attachments": {},
   "cell_type": "markdown",
   "metadata": {},
   "source": [
    "#### Format the river network file"
   ]
  },
  {
   "cell_type": "code",
   "execution_count": 4,
   "metadata": {},
   "outputs": [
    {
     "name": "stderr",
     "output_type": "stream",
     "text": [
      "/var/folders/g6/6224gnj95j3cdty1v4ry58b40000gp/T/ipykernel_95442/3936320750.py:3: SettingWithCopyWarning: \n",
      "A value is trying to be set on a copy of a slice from a DataFrame\n",
      "\n",
      "See the caveats in the documentation: https://pandas.pydata.org/pandas-docs/stable/user_guide/indexing.html#returning-a-view-versus-a-copy\n",
      "  river_network.rename(columns={\"lengthkm\" : \"length\"}, inplace=True)\n",
      "/Users/kyleklenk/ProgrammingProjects/OpenWQ-Projects/CAMELS_spat_data/camels-spat-env/lib/python3.11/site-packages/geopandas/geodataframe.py:1538: SettingWithCopyWarning: \n",
      "A value is trying to be set on a copy of a slice from a DataFrame.\n",
      "Try using .loc[row_indexer,col_indexer] = value instead\n",
      "\n",
      "See the caveats in the documentation: https://pandas.pydata.org/pandas-docs/stable/user_guide/indexing.html#returning-a-view-versus-a-copy\n",
      "  super().__setitem__(key, value)\n"
     ]
    }
   ],
   "source": [
    "\n",
    "# Remove the unnecessary columns\n",
    "river_network = river[[\"COMID\", \"NextDownID\", \"slope\", \"lengthkm\", \"geometry\"]]\n",
    "river_network.rename(columns={\"lengthkm\" : \"length\"}, inplace=True)\n",
    "\n",
    "# Convert units of length from kilometers to meters\n",
    "river_network[\"length\"] = river_network[\"length\"] * 1000\n",
    "\n",
    "# Save the file to a new shapefile\n",
    "river_network.to_file(\"/Users/kyleklenk/ProgrammingProjects/OpenWQ-Projects/CAMELS_spat_data/OpenWQ_Basins/Athabasca_River/required/river_network/athabasca_river_network.shp\")\n",
    "\n",
    "\n"
   ]
  },
  {
   "attachments": {},
   "cell_type": "markdown",
   "metadata": {},
   "source": [
    "#### Format the routing basin file"
   ]
  },
  {
   "cell_type": "code",
   "execution_count": 5,
   "metadata": {},
   "outputs": [
    {
     "name": "stdout",
     "output_type": "stream",
     "text": [
      "     GRU_ID  HRU_ID  center_lat  center_lon      HRU_area  \\\n",
      "0  82029834       1   58.392413 -110.899948  30318.528075   \n",
      "1  82029835       2   58.449079 -110.997893  29935.896248   \n",
      "2  82029836       3   58.445046 -111.168171  21379.419558   \n",
      "3  82029837       4   58.436077 -111.375988  32454.539642   \n",
      "4  82029838       5   58.380760 -111.522224   2172.137820   \n",
      "\n",
      "                                            geometry  \n",
      "0  MULTIPOLYGON (((-110.90042 58.42208, -110.9004...  \n",
      "1  POLYGON ((-111.01375 58.49375, -111.01375 58.4...  \n",
      "2  MULTIPOLYGON (((-111.14042 58.47042, -111.1404...  \n",
      "3  POLYGON ((-111.26208 58.46125, -111.26208 58.4...  \n",
      "4  POLYGON ((-111.52125 58.39208, -111.52125 58.3...  \n",
      "      COMID          area  hru_to_seg  \\\n",
      "0  82029834  30318.528075    82029834   \n",
      "1  82029835  29935.896248    82029835   \n",
      "2  82029836  21379.419558    82029836   \n",
      "3  82029837  32454.539642    82029837   \n",
      "4  82029838   2172.137820    82029838   \n",
      "\n",
      "                                            geometry  \n",
      "0  MULTIPOLYGON (((-110.90042 58.42208, -110.9004...  \n",
      "1  POLYGON ((-111.01375 58.49375, -111.01375 58.4...  \n",
      "2  MULTIPOLYGON (((-111.14042 58.47042, -111.1404...  \n",
      "3  POLYGON ((-111.26208 58.46125, -111.26208 58.4...  \n",
      "4  POLYGON ((-111.52125 58.39208, -111.52125 58.3...  \n"
     ]
    },
    {
     "name": "stderr",
     "output_type": "stream",
     "text": [
      "/var/folders/g6/6224gnj95j3cdty1v4ry58b40000gp/T/ipykernel_95442/403447173.py:6: SettingWithCopyWarning: \n",
      "A value is trying to be set on a copy of a slice from a DataFrame\n",
      "\n",
      "See the caveats in the documentation: https://pandas.pydata.org/pandas-docs/stable/user_guide/indexing.html#returning-a-view-versus-a-copy\n",
      "  hru_seg.rename(columns={\"GRU_ID\" : \"hru_to_seg\"}, inplace=True)\n",
      "/var/folders/g6/6224gnj95j3cdty1v4ry58b40000gp/T/ipykernel_95442/403447173.py:10: SettingWithCopyWarning: \n",
      "A value is trying to be set on a copy of a slice from a DataFrame\n",
      "\n",
      "See the caveats in the documentation: https://pandas.pydata.org/pandas-docs/stable/user_guide/indexing.html#returning-a-view-versus-a-copy\n",
      "  river_basin.rename(columns={\"HRU_area\" : \"area\"}, inplace=True)\n",
      "/var/folders/g6/6224gnj95j3cdty1v4ry58b40000gp/T/ipykernel_95442/403447173.py:11: SettingWithCopyWarning: \n",
      "A value is trying to be set on a copy of a slice from a DataFrame\n",
      "\n",
      "See the caveats in the documentation: https://pandas.pydata.org/pandas-docs/stable/user_guide/indexing.html#returning-a-view-versus-a-copy\n",
      "  river_basin.rename(columns={\"GRU_ID\" : \"COMID\"}, inplace=True)\n"
     ]
    }
   ],
   "source": [
    "print(basin.head())\n",
    "river_basin = basin[[\"GRU_ID\", \"HRU_area\", \"geometry\"]]\n",
    "hru_seg = basin[[\"GRU_ID\"]]\n",
    "\n",
    "\n",
    "hru_seg.rename(columns={\"GRU_ID\" : \"hru_to_seg\"}, inplace=True)\n",
    "\n",
    "# # add the column to become the 3rd column\n",
    "river_basin.insert(loc=2, column=\"hru_to_seg\", value=hru_seg)\n",
    "river_basin.rename(columns={\"HRU_area\" : \"area\"}, inplace=True)\n",
    "river_basin.rename(columns={\"GRU_ID\" : \"COMID\"}, inplace=True)\n",
    "\n",
    "print(river_basin.head())\n",
    "\n",
    "# # Save the file to a new shapefile\n",
    "river_basin.to_file(\"/Users/kyleklenk/ProgrammingProjects/OpenWQ-Projects/CAMELS_spat_data/OpenWQ_Basins/Athabasca_River/required/river_basins/athabasca_river_basins.shp\")\n"
   ]
  }
 ],
 "metadata": {
  "kernelspec": {
   "display_name": "camels-spat-env",
   "language": "python",
   "name": "python3"
  },
  "language_info": {
   "codemirror_mode": {
    "name": "ipython",
    "version": 3
   },
   "file_extension": ".py",
   "mimetype": "text/x-python",
   "name": "python",
   "nbconvert_exporter": "python",
   "pygments_lexer": "ipython3",
   "version": "3.11.3"
  },
  "orig_nbformat": 4
 },
 "nbformat": 4,
 "nbformat_minor": 2
}
